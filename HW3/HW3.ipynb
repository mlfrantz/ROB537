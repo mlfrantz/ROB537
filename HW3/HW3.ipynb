{
 "cells": [
  {
   "cell_type": "code",
   "execution_count": 37,
   "metadata": {
    "collapsed": true
   },
   "outputs": [],
   "source": [
    "import numpy as np\n",
    "import random\n",
    "import matplotlib.pyplot as plt\n",
    "import matplotlib.mlab as mlab\n",
    "import math"
   ]
  },
  {
   "cell_type": "code",
   "execution_count": 143,
   "metadata": {},
   "outputs": [
    {
     "name": "stdout",
     "output_type": "stream",
     "text": [
      "[  4.  15.  76.   4.   1.] [-1.84394266  1.66205543  1.94089007  1.10768687 -5.83107995]\n"
     ]
    }
   ],
   "source": [
    "#n-armed Bandit problem\n",
    "\n",
    "np.random.seed()\n",
    "\n",
    "banditsReward = np.array([[1,1.5,2,2,1.75],[5,1,1,2,10],[0,0,0,0,0]]) #reward earned with mean=first row and variance=second row\n",
    "banditsValue = np.random.normal(banditsReward[0,:],banditsReward[1,:]) #For my approach I am going to initial a random set of values based on the reward distribution\n",
    "\n",
    "#print(banditsValue, np.argmax(banditsValue))\n",
    "\n",
    "def value(actionValue, actionMean, actionVar, k):\n",
    "    reward = np.random.normal(actionMean, actionVar)\n",
    "    k += 1\n",
    "    actionValue = actionValue + ((1/k)*(reward - actionValue))\n",
    "    \n",
    "    #value_k+1 = Value_k + (1/k+1)*(reward_k+1 - value_k)\n",
    "    return actionValue, k\n",
    "\n",
    "def greedy(banditsReward, banditsValue, timeSteps):\n",
    "    \n",
    "    for i in range(timeSteps):\n",
    "        hI = np.argmax(banditsValue) #finds the index of the highest valued (greedy) action\n",
    "        banditsValue[hI], banditsReward[2,hI] = value(banditsValue[hI], banditsReward[0,hI], banditsReward[1,hI], banditsReward[2,hI])\n",
    "   \n",
    "    print(banditsReward[2,:], banditsValue) \n",
    "    \n",
    " \n",
    "def eGreedy(banditsReward, banditsValue, timeSteps):\n",
    "    \n",
    "    eps = 0.1 #epsilon value\n",
    "    \n",
    "    for i in range(timeSteps):\n",
    "        hI = np.argmax(banditsValue) #finds the index of the highest valued (greedy) action\n",
    "        if np.random.uniform(0.0,1.0) < eps: \n",
    "            other = random.choice(list(enumerate(banditsValue)))[0] #picks a random index from the values\n",
    "            while other == hI: #loop makes sure its not the same index as the best value\n",
    "                other = random.choice(list(enumerate(banditsValue)))[0]\n",
    "            hI = other\n",
    "            banditsValue[hI], banditsReward[2,hI] = value(banditsValue[hI], banditsReward[0,hI], banditsReward[1,hI], banditsReward[2,hI])\n",
    "        else:\n",
    "            banditsValue[hI], banditsReward[2,hI] = value(banditsValue[hI], banditsReward[0,hI], banditsReward[1,hI], banditsReward[2,hI])\n",
    "\n",
    "    print(banditsReward[2,:], banditsValue) \n",
    "\n",
    "\n",
    "#come up with a function that averages values over so many trials    \n",
    "    \n",
    "eGreedy(banditsReward, banditsValue, 100)\n",
    "\n"
   ]
  },
  {
   "cell_type": "code",
   "execution_count": 132,
   "metadata": {
    "collapsed": true
   },
   "outputs": [],
   "source": [
    "#for i in range(banditsReward.shape[1]):\n",
    "#    mu = banditsReward[0,i]\n",
    "#    variance = banditsReward[1,i]\n",
    "#    sigma = math.sqrt(variance)\n",
    "#    x = np.linspace(mu - 3*sigma, mu + 3*sigma, 100)\n",
    "#    plt.plot(x,mlab.normpdf(x, mu, sigma))\n",
    "#    plt.show()"
   ]
  },
  {
   "cell_type": "code",
   "execution_count": 161,
   "metadata": {},
   "outputs": [],
   "source": [
    "#Grid problem\n",
    "\n",
    "np.random.seed() #seed the random generator\n",
    "\n",
    "reward = np.full((5,10),-1)\n",
    "reward[3,9] = 100 #intials the rewards grid where all values are -1 except the door which is 100\n",
    "\n",
    "startLocation = [np.random.randint(0,reward.shape[0]), np.random.randint(0,reward.shape[1])] #picks a randomn start location\n",
    "\n",
    "value = rewards #intially value equals rewards\n",
    "\n",
    "actions = [0,1,2,3,4] #0 = stay in place, 1=north, 2=east, 3=south, 4=west\n",
    "\n",
    "for i in range(20):\n",
    "    for action in actions:\n",
    "        #compute all values for each possible action\n",
    "        #take action with highest value\n",
    "        #repeat until reward = 100?\n",
    "    \n",
    "\n",
    "\n"
   ]
  },
  {
   "cell_type": "code",
   "execution_count": null,
   "metadata": {
    "collapsed": true
   },
   "outputs": [],
   "source": []
  }
 ],
 "metadata": {
  "kernelspec": {
   "display_name": "Python 3",
   "language": "python",
   "name": "python3"
  },
  "language_info": {
   "codemirror_mode": {
    "name": "ipython",
    "version": 3
   },
   "file_extension": ".py",
   "mimetype": "text/x-python",
   "name": "python",
   "nbconvert_exporter": "python",
   "pygments_lexer": "ipython3",
   "version": "3.6.2"
  }
 },
 "nbformat": 4,
 "nbformat_minor": 2
}
